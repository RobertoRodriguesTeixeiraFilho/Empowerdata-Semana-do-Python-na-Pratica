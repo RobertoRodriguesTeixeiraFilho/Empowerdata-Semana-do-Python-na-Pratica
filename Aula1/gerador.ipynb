{
 "cells": [
  {
   "cell_type": "markdown",
   "metadata": {},
   "source": [
    "# Passo a passo do Projeto\n",
    "* Passo 1: Desenvolvendo as entradas de dados\n",
    "* Passo 2: Gerando o PDF com o orçamento\n",
    "    1. Criando um arquivo PDF\n",
    "    2. Inserindo os dados no PDF\n",
    "    3. Salvando o arquivo"
   ]
  },
  {
   "cell_type": "markdown",
   "metadata": {},
   "source": [
    "## Passo 1: Desenvolvendo as entradas de dados"
   ]
  },
  {
   "cell_type": "code",
   "execution_count": null,
   "metadata": {},
   "outputs": [],
   "source": [
    "projeto = input(\"Digite a descrição do projeto: \")\n",
    "horas_estimadas = input(\"Digite o total de horas estimadas: \")\n",
    "valor_hora = input(\"Digite o valor da hora trabalhada: \")\n",
    "prazo_estimado = input(\"Digite o prazo estimado: \")\n",
    "\n",
    "valor_total_estimado = int(horas_estimadas) * int(valor_hora)"
   ]
  },
  {
   "cell_type": "markdown",
   "metadata": {},
   "source": [
    "## Passo 2: Gerando o PDF com o orçamento\n",
    "1. Criando um arquivo PDF\n",
    "2. Inserindo os dados no PDF\n",
    "3. Salvando o arquivo"
   ]
  },
  {
   "cell_type": "code",
   "execution_count": null,
   "metadata": {},
   "outputs": [],
   "source": [
    "from fpdf import FPDF\n",
    "# Criando um arquivo PDF\n",
    "pdf = FPDF()\n",
    "pdf.add_page()\n",
    "pdf.set_font(\"Arial\")\n",
    "pdf.image(\"template.png\", x=0, y=0 )\n",
    "\n",
    "# Inserindo os dados no PDF\n",
    "pdf.text(115, 145, projeto)\n",
    "pdf.text(115, 160, horas_estimadas)\n",
    "pdf.text(115, 175, valor_hora)\n",
    "pdf.text(115, 190, prazo_estimado)\n",
    "pdf.text(115, 205, str(valor_total_estimado))"
   ]
  },
  {
   "cell_type": "code",
   "execution_count": null,
   "metadata": {},
   "outputs": [],
   "source": [
    "# Salvando o arquivo\n",
    "pdf.output(\"orçamento.pdf\")\n",
    "print(\"Orçamento gerado com sucesso\")"
   ]
  }
 ],
 "metadata": {
  "kernelspec": {
   "display_name": "venv",
   "language": "python",
   "name": "python3"
  },
  "language_info": {
   "codemirror_mode": {
    "name": "ipython",
    "version": 3
   },
   "file_extension": ".py",
   "mimetype": "text/x-python",
   "name": "python",
   "nbconvert_exporter": "python",
   "pygments_lexer": "ipython3",
   "version": "3.11.4"
  }
 },
 "nbformat": 4,
 "nbformat_minor": 2
}
