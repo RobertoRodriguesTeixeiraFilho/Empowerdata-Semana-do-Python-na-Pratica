{
 "cells": [
  {
   "cell_type": "markdown",
   "metadata": {},
   "source": [
    "# Automação de tarefas\n",
    "\n",
    "## Problemas a serem resolvidos\n",
    "* Buscar automaticamente os dados das ações no site do Yahoo!\n",
    "* Analisar os dados das ações de acordo com a solicitação do gestor\n",
    "* Enviar um e-mail com todas análises de forma automática"
   ]
  },
  {
   "cell_type": "markdown",
   "metadata": {},
   "source": [
    "### Passo 1 -Buscar automaticamente os dados das ações no site do Yahoo!"
   ]
  },
  {
   "cell_type": "code",
   "execution_count": null,
   "metadata": {},
   "outputs": [],
   "source": [
    "import yfinance\n",
    "\n",
    "ticker = input(\"Digite o código da ação desejada: \") \n",
    "# Exemplo: PETR4.SA\n",
    "\n",
    "dados = yfinance.Ticker(ticker).history(\"6mo\")\n",
    "\n",
    "fechamento = dados.Close\n",
    "fechamento.plot()\n"
   ]
  },
  {
   "cell_type": "markdown",
   "metadata": {},
   "source": [
    "## Passo 2 - Análises solicitadas pelo Gestor\n",
    "\n",
    "- Análise dos últimos seis mêses\n",
    "- Cotação máxima\n",
    "- Cotação mínima\n",
    "- Cotação atual"
   ]
  },
  {
   "cell_type": "code",
   "execution_count": null,
   "metadata": {},
   "outputs": [],
   "source": [
    "# Cotação máxima\n",
    "maxima = fechamento.max()\n",
    "# Cotação mínima\n",
    "minima = fechamento.min()\n",
    "# Cotação atual\n",
    "atual = fechamento.iloc[-1]\n"
   ]
  },
  {
   "cell_type": "markdown",
   "metadata": {},
   "source": [
    "## Automatizando o envio de e-mail\n",
    "\n",
    "- Abrir uma nova aba (Ctrl+T)\n",
    "- Escrever o endereço do Gmail e apertar Enter\n",
    "- Clicar no botão \"Escrever\"\n",
    "- Preencher o destinatário (Tab)\n",
    "- Preencher o assunto (Tab)\n",
    "- Preencher o corpo do E-mail\n",
    "- Clicar no botão \"Enviar\""
   ]
  },
  {
   "cell_type": "code",
   "execution_count": null,
   "metadata": {},
   "outputs": [],
   "source": [
    "import pyautogui\n",
    "import pyperclip\n",
    "from time import sleep\n",
    "from chrome_launcher import open_chrome\n",
    "\n",
    "# Configurando uma pausa entre os passos\n",
    "pyautogui.PAUSE = 2\n",
    "\n",
    "# Abrindo o Google Chrome em vez de abrir uma nova aba (ctrl + t)\n",
    "open_chrome()\n",
    "# Se fosse abrir uma nova aba, seria:\n",
    "# pyautogui.hotkey(\"ctrl\", \"t\")\n",
    "\n",
    "# Escrevendo o endereço do Gmail e apertando enter com pyperclip\n",
    "pyperclip.copy(\"www.gmail.com\")\n",
    "pyautogui.hotkey(\"ctrl\", \"v\")\n",
    "pyautogui.press(\"enter\")\n",
    "# Esperar a página carregar\n",
    "sleep(3)\n",
    "\n",
    "# Clicar no botão \"Escrever\"\n",
    "pyautogui.click(x=-1818, y=186)\n",
    "# Esperar a caixa de mensagens carregar\n",
    "sleep(2.5)\n",
    "\n",
    "# Preencher o destinatário\n",
    "pyperclip.copy(\"email@gmail.com\")\n",
    "pyautogui.hotkey(\"ctrl\", \"v\")\n",
    "pyautogui.hotkey(\"tab\")\n",
    "\n",
    "# Preencher o assunto\n",
    "pyperclip.copy(\"Análises diárias\")\n",
    "pyautogui.hotkey(\"ctrl\", \"v\")\n",
    "pyautogui.hotkey(\"tab\")\n",
    "\n",
    "# Preencher o corpo do e-mail\n",
    "mensagem = f\"\"\"\n",
    "Prezado Gestor,\n",
    "\n",
    "Seguem as análises dos últimos seis mêses da ação {ticker} conforme solicitado:\n",
    "\n",
    "- Cotação máxima: R${round(maxima, 2)}\n",
    "- Cotação mínima R${round(minima, 2)}\n",
    "- Cotação atualR${round(atual, 2)}\n",
    "\n",
    "Qualquer dúvida, estou à disposição!\n",
    "Até.\n",
    "\"\"\"\n",
    "pyperclip.copy(mensagem)\n",
    "pyautogui.hotkey(\"ctrl\", \"v\")\n",
    "\n",
    "# Clicando em \"Enviar\"\n",
    "pyautogui.click(x=-613, y=1045)\n"
   ]
  },
  {
   "cell_type": "code",
   "execution_count": null,
   "metadata": {},
   "outputs": [],
   "source": [
    "from time import sleep\n",
    "\n",
    "sleep(5)\n",
    "pyautogui.position()"
   ]
  }
 ],
 "metadata": {
  "kernelspec": {
   "display_name": "venv",
   "language": "python",
   "name": "python3"
  },
  "language_info": {
   "codemirror_mode": {
    "name": "ipython",
    "version": 3
   },
   "file_extension": ".py",
   "mimetype": "text/x-python",
   "name": "python",
   "nbconvert_exporter": "python",
   "pygments_lexer": "ipython3",
   "version": "3.11.4"
  }
 },
 "nbformat": 4,
 "nbformat_minor": 2
}
